{
 "cells": [
  {
   "cell_type": "code",
   "execution_count": null,
   "metadata": {},
   "outputs": [],
   "source": [
    "import pandas as pd\n",
    "import matplotlib.pyplot as plt\n",
    "import mojito\n",
    "\n",
    "key = \"PS9h4HshohAN57DrShNnEUhRB2StzG7ddX66\"\n",
    "secret = \"gr0GOAfGwjfe8FEsdjMkJJ25bSEqCdtIgBO5YHpyy6Ru9NOt+1YO/0Yq9GWqSUZXDeEkMoYSIJ0sP578oEADpx4ZuTn/AsvnuVfRI4vtCcDm0S0452Lo3LrZVImL0TKDOT6/scRf7mpj6AnJvVt4PMQEuUWOp3c4fWTER0NH4UOBZiFoG8w=\"\n",
    "acc_no = \"73802918-01\"\n",
    "\n",
    "broker = mojito.KoreaInvestment(\n",
    "    api_key = key,\n",
    "    api_secret = secret,\n",
    "    acc_no = acc_no\n",
    ")\n",
    "\n",
    "# 일/주/월별 가격\n",
    "resp = broker.fetch_ohlcv(\n",
    "    symbol=\"005930\",\n",
    "    timeframe='D',\n",
    "    adj_price=True\n",
    ")\n",
    "\n",
    "\n",
    "df = pd.DataFrame(resp['output2'])\n",
    "dt = pd.to_datetime(df['stck_bsop_date'], format=\"%Y%m%d\")\n",
    "df.set_index(dt, inplace=True)\n",
    "df = df[['stck_oprc', 'stck_hgpr', 'stck_lwpr', 'stck_clpr']]\n",
    "df.columns = ['open', 'high', 'low', 'close']\n",
    "#pd.to_numeric(df['close'], errors='ignore')\n",
    "df = df.apply(pd.to_numeric)\n",
    "df.index.name = \"date\"\n",
    "print(df['close'])\n",
    "\n",
    "df.plot.line()"
   ]
  }
 ],
 "metadata": {
  "language_info": {
   "name": "python"
  },
  "orig_nbformat": 4
 },
 "nbformat": 4,
 "nbformat_minor": 2
}
